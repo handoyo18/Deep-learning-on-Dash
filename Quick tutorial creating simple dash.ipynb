{
 "cells": [
  {
   "cell_type": "markdown",
   "metadata": {},
   "source": [
    "# Simple intractive Plotly Dash Dashboard to Visualizing Deep learning models\n",
    "\n",
    "Plotly Dash adalah simple dashboard dengan menggunakan flask sebagai backendnya, Sehingga Dash adalah dashboard ringan yang dapat kita gunakan untuk mengvisualisasikan data kita. Dikarenakan sifat dash yang ringan sehingga dash sangat cocok untuk diintegrasikan dengan deeplearning framework yang khususnya ada pada python. Pada case ini didemokan pengintegrasian library pytorch dan dash untuk mengvisualisasikan object detection secara interactive.\n",
    "\n",
    "## Dash layout\n",
    "\n",
    "dash apps terdiri dari 2 part. part peratama mengatur mengenai layout atau User Interface (UI) yang simplenya adalah untuk mengatur tampilan dari dashboard. Bagian kedua mendeskripsikan interactivity dari dashboard tersebut, biasanya diisi oleh code untuk menjalankan komponenen komponen yang berjalan di belakang layar. \n",
    "\n",
    "### core componentes\n",
    "\n",
    "Kita dapat membangun layout dengan `dash_htmml_component` dan `dash_core_component`. Dash memprovide 2 library teresebut yang berisi kelas dari viisual componen yang dapat kita gunakan untuk membangun dashboard. Untuk lebih advance nya kita dapat mengcostumize das dengan javascript dan react.js. \n",
    "\n",
    "pertama tama maari kita mengimport library yang dibutuhkan."
   ]
  },
  {
   "cell_type": "code",
   "execution_count": 1,
   "metadata": {
    "ExecuteTime": {
     "end_time": "2020-10-23T01:02:36.598699Z",
     "start_time": "2020-10-23T01:02:08.382785Z"
    }
   },
   "outputs": [],
   "source": [
    "import dash\n",
    "import dash_core_components as dcc\n",
    "import dash_html_components as html"
   ]
  },
  {
   "cell_type": "markdown",
   "metadata": {},
   "source": [
    "Untuk part pertama kita dapat menggunakan bantuan library `dash_html_components` berikut adalah contoh penggunaannya. "
   ]
  },
  {
   "cell_type": "code",
   "execution_count": 4,
   "metadata": {
    "ExecuteTime": {
     "end_time": "2020-10-23T01:11:37.380747Z",
     "start_time": "2020-10-23T01:11:37.360793Z"
    }
   },
   "outputs": [],
   "source": [
    "app = dash.Dash()\n",
    "app.layout = html.Div(children=[\n",
    "   html.H1(children='Hello Dash'),\n",
    "   html.Div(children='Dash Framework: A web application framework for Python.')\n",
    "])"
   ]
  },
  {
   "cell_type": "markdown",
   "metadata": {},
   "source": [
    "Code diatas equvalent dengan HTML code yang bentuknya seperti ini \n",
    "\n",
    "```\n",
    "<div>\n",
    "   <h1> Hello Dash </h1>\n",
    "   <div> Dash Framework: A web application framework for Python. </div>\n",
    "</div>\n",
    "```"
   ]
  },
  {
   "cell_type": "markdown",
   "metadata": {},
   "source": [
    "berikutnya kita bisa menggabungkan penggunaan `dash_core_component` Untuk membuat objek pada dashboard kita. Sebagai contoh mari kita buat kolom komenntar dan sebuah button untuk submit. "
   ]
  },
  {
   "cell_type": "code",
   "execution_count": 5,
   "metadata": {
    "ExecuteTime": {
     "end_time": "2020-10-23T01:11:45.676947Z",
     "start_time": "2020-10-23T01:11:45.659993Z"
    }
   },
   "outputs": [],
   "source": [
    "app.layout = html.Div([\n",
    "    dcc.Textarea(\n",
    "        value = 'Masukan komentar disini',\n",
    "        style = {'width' : '50%'}\n",
    "    ),\n",
    "    \n",
    "    html.Br(),\n",
    "    html.Button('submit', id = 'submit-form'),\n",
    "    html.Br(),\n",
    "    html.Div(id='my-div')\n",
    "])"
   ]
  },
  {
   "cell_type": "markdown",
   "metadata": {},
   "source": [
    "Bagian kedua adalah interativity, Karena backend yang kita gunakan mirip dengan flask, jadi cara penggunaannya mirip. "
   ]
  },
  {
   "cell_type": "code",
   "execution_count": null,
   "metadata": {},
   "outputs": [],
   "source": [
    "# UI\n",
    "app.layout = html.Div([\n",
    "    dcc.Input(id='my-id', value='Dash App', type='text'),\n",
    "    html.Div(id='my-div')\n",
    "])\n",
    "\n",
    "# Membuat interativity \n",
    "@app.callback(\n",
    "    Output(component_id='my-div', component_property='children'),\n",
    "    [Input(component_id='my-id', component_property='value')]\n",
    ")\n",
    "def update_output_div(input_value):\n",
    "    return 'You\\'ve entered \"{}\"'.format(input_value)"
   ]
  },
  {
   "cell_type": "markdown",
   "metadata": {},
   "source": [
    "Tampilan full code simple membuat dash dashboard. "
   ]
  },
  {
   "cell_type": "code",
   "execution_count": null,
   "metadata": {},
   "outputs": [],
   "source": [
    "import dash\n",
    "import dash_core_components as dcc\n",
    "import dash_html_components as html\n",
    "from dash.dependencies import Input, Output\n",
    "\n",
    "app = dash.Dash()\n",
    "\n",
    "app.layout = html.Div([\n",
    "    dcc.Input(id='my-id', value='Dash App', type='text'),\n",
    "    html.Div(id='my-div')\n",
    "])\n",
    "\n",
    "\n",
    "@app.callback(\n",
    "    Output(component_id='my-div', component_property='children'),\n",
    "    [Input(component_id='my-id', component_property='value')]\n",
    ")\n",
    "def update_output_div(input_value):\n",
    "    return 'You\\'ve entered \"{}\"'.format(input_value)\n",
    "\n",
    "\n",
    "if __name__ == '__main__':\n",
    "    app.run_server()"
   ]
  },
  {
   "cell_type": "markdown",
   "metadata": {},
   "source": [
    "## Running Dash\n",
    "\n",
    "- Buka console, Pastikan sudah ada di env yang betul.\n",
    "- Masukan perintah python app.py\n",
    "- Jalankan alamat yang diberikan\n",
    "\n",
    "## Deployment\n",
    "\n",
    "Opsi deployment untuk dash yang gratis hanyalah menggunakan herokku. Seperti biasa buatlah procfile untuk mendefine `gunicorn`. Pastikan Kita sudah menginstall Gunicorn. \n",
    "\n",
    "Upload dashboard ke github dan deploy menggunakan herokku via github.\n"
   ]
  }
 ],
 "metadata": {
  "kernelspec": {
   "display_name": "abigail",
   "language": "python",
   "name": "abigail"
  },
  "language_info": {
   "codemirror_mode": {
    "name": "ipython",
    "version": 3
   },
   "file_extension": ".py",
   "mimetype": "text/x-python",
   "name": "python",
   "nbconvert_exporter": "python",
   "pygments_lexer": "ipython3",
   "version": "3.6.8"
  }
 },
 "nbformat": 4,
 "nbformat_minor": 2
}
